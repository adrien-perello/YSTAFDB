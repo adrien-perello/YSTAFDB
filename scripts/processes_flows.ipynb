{
 "cells": [
  {
   "attachments": {},
   "cell_type": "markdown",
   "metadata": {},
   "source": [
    "# Goals\n",
    "\n",
    "This script enables to extract the following information from YSTAFDB:\n",
    "- processes\n",
    "- flows\n",
    "- recycling"
   ]
  },
  {
   "cell_type": "code",
   "execution_count": 1,
   "metadata": {},
   "outputs": [],
   "source": [
    "import pandas as pd\n",
    "import os.path"
   ]
  },
  {
   "cell_type": "code",
   "execution_count": 2,
   "metadata": {},
   "outputs": [],
   "source": [
    "# Define the filepath where the data is stored\n",
    "data_dir = \"../data/Yale/YSTAFDB_CSV_files/\"\n",
    "\n",
    "# Load the reference material list\n",
    "reference_materials = pd.read_csv(f\"{data_dir}reference_materials.csv\")\n",
    "\n",
    "# Get IDs of the materials we are interested in (e.g., nickel)\n",
    "materials = ['Ni']\n",
    "material_ids = reference_materials[reference_materials['reference_material'].isin(materials)].reference_material_id.values\n"
   ]
  },
  {
   "cell_type": "code",
   "execution_count": 3,
   "metadata": {},
   "outputs": [],
   "source": [
    "# Get lists of processes, flows, recycling, and cross-boundary flows for the specified materials\n",
    "processes = pd.read_csv(data_dir + \"processes.csv\")\n",
    "processes = processes[processes['reference_material_id'].isin(material_ids)].copy()\n",
    "processes.reset_index(drop=True, inplace=True)\n",
    "\n",
    "flows = pd.read_csv(data_dir + \"flows.csv\")\n",
    "flows = flows[flows['reference_material_id'].isin(material_ids)].copy()\n",
    "flows.reset_index(drop=True, inplace=True)\n",
    "\n",
    "recycling = pd.read_csv(data_dir + \"recycling.csv\")\n",
    "recycling = recycling[recycling['reference_material_id'].isin(material_ids)].copy()\n",
    "recycling.reset_index(drop=True, inplace=True)\n",
    "\n",
    "cross_boundary_flows = pd.read_csv(data_dir + \"cross_boundary_flows.csv\")\n",
    "cross_boundary_flows = cross_boundary_flows[cross_boundary_flows['reference_material_id'].isin(material_ids)].copy()\n",
    "cross_boundary_flows.reset_index(drop=True, inplace=True)"
   ]
  },
  {
   "cell_type": "code",
   "execution_count": 4,
   "metadata": {},
   "outputs": [],
   "source": [
    "# Get a list of all columns across all dataframes and create a dictionary mapping column names to file names\n",
    "all_columns = sorted(list(set(processes.columns) | set(flows.columns) | set(recycling.columns) | set(cross_boundary_flows.columns)))\n",
    "file_names = {x: x.split('_id')[0] for x in all_columns}"
   ]
  },
  {
   "cell_type": "code",
   "execution_count": 5,
   "metadata": {},
   "outputs": [],
   "source": [
    "# Create a dictionary mapping column names to file names, making modifications to the filenames as needed\n",
    "cross_ref = set(pd.read_csv(f\"{data_dir}indexes.csv\").column.unique())\n",
    "file_names_edited = {}\n",
    "\n",
    "for col, file in file_names.items():\n",
    "    if os.path.isfile(data_dir + file + '.csv'):\n",
    "        file_names_edited[col] = file + '.csv'\n",
    "        continue\n",
    "    if os.path.isfile(data_dir + file + 's.csv'):\n",
    "        file_names_edited[col] = file + 's.csv'\n",
    "        continue\n",
    "    if os.path.isfile(data_dir + file + 'es.csv'):\n",
    "        file_names_edited[col] = file + 'es.csv'\n",
    "        continue\n",
    "    if os.path.isfile(data_dir + file[:-1] + 'ies.csv'):\n",
    "        file_names_edited[col] = file[:-1] + 'ies.csv'\n",
    "        continue\n",
    "    if file[-5:] == '_unit':\n",
    "        file_names_edited[col] = 'units.csv'\n",
    "        continue\n",
    "    if file[-6:] == '_label' or file not in cross_ref:\n",
    "        continue"
   ]
  },
  {
   "cell_type": "code",
   "execution_count": 6,
   "metadata": {},
   "outputs": [],
   "source": [
    "def get_label(column, values):\n",
    "    \"\"\"\n",
    "    Given a column name and a list of values, return a DataFrame containing the subset of rows from the CSV file that \n",
    "    contain any of the specified values in the specified column.\n",
    "\n",
    "    Parameters:\n",
    "    column (str): The name of the column to filter on.\n",
    "    values (list): A list of values to match in the specified column.\n",
    "\n",
    "    Returns:\n",
    "    A pandas DataFrame containing the subset of rows from the CSV file that match any of the specified values in the \n",
    "    specified column.\n",
    "    \"\"\"\n",
    "    global data_dir\n",
    "    file_path = data_dir + file_names_edited[column]\n",
    "    df = pd.read_csv(file_path)\n",
    "    \n",
    "    # Extract column name\n",
    "    if len(column.split('_unit_id')) > 1:\n",
    "        column = 'unit_id'\n",
    "    elif len(column.split('_destination')) > 1:\n",
    "        column = column.split('_destination')[0]\n",
    "    elif len(column.split('_origin')) > 1:\n",
    "        column = column.split('_origin')[0]\n",
    "    \n",
    "    # Filter rows by given values\n",
    "    df = df[df[column].isin(values)]\n",
    "    \n",
    "    # Select columns to keep\n",
    "    col_to_keep = column.split('_id')[0] if column != 'publication_id' else 'URL'\n",
    "    \n",
    "    # Set index and return selected columns\n",
    "    return df.set_index(column)[col_to_keep]"
   ]
  },
  {
   "cell_type": "code",
   "execution_count": 7,
   "metadata": {},
   "outputs": [],
   "source": [
    "def extract_data(file):\n",
    "    \"\"\"\n",
    "    Extracts data from the given file by replacing certain columns with their corresponding labels from reference files.\n",
    "    \n",
    "    Args:\n",
    "        file (pandas.DataFrame): A pandas dataframe containing the data to be extracted.\n",
    "        \n",
    "    Returns:\n",
    "        pandas.DataFrame: A modified version of the original dataframe, where certain columns have been replaced with their corresponding labels.\n",
    "        \n",
    "    Raises:\n",
    "        KeyError: If a column in the input dataframe does not have a corresponding reference file, a KeyError will be raised.\n",
    "    \"\"\"\n",
    "    \n",
    "    # Create a copy of the input file\n",
    "    new_file = file.copy()\n",
    "\n",
    "    # Prepare a list to store the columns that raise KeyError during label extraction\n",
    "    key_error_cols = []\n",
    "\n",
    "    # Get the columns that have labels in the database\n",
    "    cols_with_labels = set(new_file.columns) & set(file_names_edited.keys())\n",
    "\n",
    "    # Iterate over the columns with labels\n",
    "    for col in cols_with_labels:\n",
    "        # Get the set of unique values in the column\n",
    "        vals = set(new_file[col].unique())\n",
    "\n",
    "        # Try to get the labels for the values in the column\n",
    "        try:\n",
    "            labels = get_label(col, vals)\n",
    "        except KeyError:\n",
    "            key_error_cols.append(col)\n",
    "            continue\n",
    "\n",
    "        # Map the values to their corresponding labels\n",
    "        new_file[col] = new_file[col].map(labels)\n",
    "\n",
    "    # If any columns raised KeyError during label extraction, print a warning message\n",
    "    if key_error_cols:\n",
    "        print(f\"Warning: could not extract labels for columns {key_error_cols}\")\n",
    "\n",
    "    # Return the modified copy of the input file\n",
    "    return new_file"
   ]
  },
  {
   "cell_type": "code",
   "execution_count": 8,
   "metadata": {},
   "outputs": [
    {
     "name": "stdout",
     "output_type": "stream",
     "text": [
      "Warning: could not extract labels for columns ['process_id']\n",
      "Warning: could not extract labels for columns ['flow_id']\n",
      "Warning: could not extract labels for columns ['recycling_id']\n",
      "Warning: could not extract labels for columns ['cross_boundary_flow_id']\n"
     ]
    }
   ],
   "source": [
    "# Create an Excel file named 'Nickel_Yale_db.xlsx' and write data from different data frames to different sheets.\n",
    "output_file = '../data/outputs/Nickel.xlsx'\n",
    "\n",
    "# Define the sheet names for different data frames.\n",
    "sheet_names = ['processes', 'flows', 'recycling', 'cross_boundary_flows']\n",
    "\n",
    "# Write data from each data frame to the corresponding sheet.\n",
    "with pd.ExcelWriter(output_file) as writer:\n",
    "    for sheet_name, data in zip(sheet_names, [processes, flows, recycling, cross_boundary_flows]):\n",
    "        # Extract data from the data frame and write it to the sheet.\n",
    "        extracted_data = extract_data(data)\n",
    "        extracted_data.to_excel(writer, sheet_name=sheet_name)"
   ]
  }
 ],
 "metadata": {
  "kernelspec": {
   "display_name": "Python 3 (ipykernel)",
   "language": "python",
   "name": "python3"
  },
  "language_info": {
   "codemirror_mode": {
    "name": "ipython",
    "version": 3
   },
   "file_extension": ".py",
   "mimetype": "text/x-python",
   "name": "python",
   "nbconvert_exporter": "python",
   "pygments_lexer": "ipython3",
   "version": "3.9.7"
  },
  "vscode": {
   "interpreter": {
    "hash": "b58a870c0bc0aec7b2b083224ef1f78c78c680a826fd98114dcf6068221c65a4"
   }
  },
  "widgets": {
   "application/vnd.jupyter.widget-state+json": {
    "state": {},
    "version_major": 2,
    "version_minor": 0
   }
  }
 },
 "nbformat": 4,
 "nbformat_minor": 4
}
